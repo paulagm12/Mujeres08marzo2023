{
 "cells": [
  {
   "attachments": {},
   "cell_type": "markdown",
   "metadata": {},
   "source": [
    "Analfabetismo por sexo de ENEI 2022"
   ]
  },
  {
   "cell_type": "code",
   "execution_count": 9,
   "metadata": {},
   "outputs": [
    {
     "name": "stdout",
     "output_type": "stream",
     "text": [
      "['Mujer', 'Hombre']\n",
      "Categories (2, object): ['Hombre', 'Mujer']\n"
     ]
    }
   ],
   "source": [
    "import pandas as pd\n",
    "import numpy as np\n",
    "data = pd.read_spss(\"..\\Bases\\BASE_ENEI_22_PERSONAS .sav\")"
   ]
  },
  {
   "attachments": {},
   "cell_type": "markdown",
   "metadata": {},
   "source": [
    "Funciones para calcular tasas basadas en filtros hacia un campo de una base de datos y el correspondiente filtro global de donde el primero se realiza"
   ]
  },
  {
   "cell_type": "code",
   "execution_count": 36,
   "metadata": {},
   "outputs": [
    {
     "data": {
      "text/plain": [
       "11.641099437169066"
      ]
     },
     "execution_count": 36,
     "metadata": {},
     "output_type": "execute_result"
    }
   ],
   "source": [
    "def sumFactor(base_filtrada : pd.DataFrame) -> float:\n",
    "    return base_filtrada['Factor'].sum()\n",
    "def tasa(data: pd.DataFrame, filtro : str, filtro_global : str) -> float:\n",
    "    data_global = data.query(filtro_global)\n",
    "    data_filtrada = data_global.query(filtro)\n",
    "    return sumFactor(data_filtrada)/sumFactor(data_global)*100\n",
    "\n",
    "tasa(data, filtro='(P04A01 == \"No\")', filtro_global='(P03A03 > 14) & (P03A02 == \"Hombre\")')"
   ]
  },
  {
   "cell_type": "code",
   "execution_count": 44,
   "metadata": {},
   "outputs": [
    {
     "name": "stdout",
     "output_type": "stream",
     "text": [
      "{'Sexo': ['Tasa de analfabetismo'], 'Mujer': [21.3912539770582], 'Hombre': [11.641099437169066]}\n"
     ]
    }
   ],
   "source": [
    "tasa_analfabetas = {}\n",
    "tasa_analfabetas['Sexo'] = ['Tasa de analfabetismo']\n",
    "for sexo in data['P03A02'].unique():\n",
    "    tasa_analfabetas[sexo] = [tasa(data, filtro='(P04A01 == \"No\")', filtro_global='(P03A03 > 14) & (P03A02 == @sexo)')]\n",
    "\n",
    "tabla_analfabetismo = pd.DataFrame(data = tasa_analfabetas)\n"
   ]
  },
  {
   "cell_type": "code",
   "execution_count": 22,
   "metadata": {},
   "outputs": [
    {
     "name": "stdout",
     "output_type": "stream",
     "text": [
      "                    Sexo    Hombres    Mujeres\n",
      "0  Tasa de analfabetismo  11.641099  21.391254\n"
     ]
    }
   ],
   "source": [
    "# for i in data.columns: print(i)\n",
    "respuestas_leer = data['P04A01'].unique()\n",
    "mayores_a_14 = data[data['P03A03'] > 14]\n",
    "total_mujeres = sumFactor(mayores_a_14[mayores_a_14['P03A02'] == 'Mujer'])\n",
    "total_mujeres_14 = mayores_a_14[mayores_a_14['P03A02'] == 'Mujer']['Factor'].sum()\n",
    "total_hombres_14 = mayores_a_14[mayores_a_14['P03A02'] == 'Hombre']['Factor'].sum()\n",
    "tasa_analfabetas = {}\n",
    "tasa_analfabetas['Sexo'] = ['Tasa de analfabetismo']\n",
    "tasa_analfabetas['Hombres'] = [mayores_a_14[(mayores_a_14['P04A01'] == 'No') & (mayores_a_14['P03A02'] == 'Hombre')]['Factor'].sum()/total_hombres_14*100]\n",
    "tasa_analfabetas['Mujeres'] = [mayores_a_14[(mayores_a_14['P04A01'] == 'No') & (mayores_a_14['P03A02'] == 'Mujer')]['Factor'].sum()/total_mujeres_14*100]\n",
    "# tasa_analfabetas['Total'] =[ mayores_a_14[mayores_a_14['P04A01'] == 'No']['Factor'].sum()/mayores_a_14['Factor'].sum()*100]\n",
    "\n",
    "# print(tasa_analfabetas)\n",
    "\n",
    "tabla_analfabetismo = pd.DataFrame(data = tasa_analfabetas)\n",
    "tabla_analfabetismo.to_excel('../Bases/Analfabetismo.xlsx', engine='xlsxwriter', index=False)\n",
    "print(tabla_analfabetismo)\n"
   ]
  },
  {
   "cell_type": "code",
   "execution_count": null,
   "metadata": {},
   "outputs": [],
   "source": []
  }
 ],
 "metadata": {
  "kernelspec": {
   "display_name": "Python 3",
   "language": "python",
   "name": "python3"
  },
  "language_info": {
   "codemirror_mode": {
    "name": "ipython",
    "version": 3
   },
   "file_extension": ".py",
   "mimetype": "text/x-python",
   "name": "python",
   "nbconvert_exporter": "python",
   "pygments_lexer": "ipython3",
   "version": "3.11.2"
  },
  "orig_nbformat": 4,
  "vscode": {
   "interpreter": {
    "hash": "437757b9eb8fef134b7ae8d8deef96b2be734bb8b208d5aceb0dadabd6fde23d"
   }
  }
 },
 "nbformat": 4,
 "nbformat_minor": 2
}
